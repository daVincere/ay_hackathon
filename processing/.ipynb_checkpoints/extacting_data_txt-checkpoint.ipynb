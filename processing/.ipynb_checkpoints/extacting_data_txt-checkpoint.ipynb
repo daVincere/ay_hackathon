{
 "cells": [
  {
   "cell_type": "code",
   "execution_count": 1,
   "metadata": {
    "collapsed": true
   },
   "outputs": [],
   "source": [
    "import re"
   ]
  },
  {
   "cell_type": "code",
   "execution_count": 2,
   "metadata": {
    "collapsed": true
   },
   "outputs": [],
   "source": [
    "line = \"BEE is lambee\""
   ]
  },
  {
   "cell_type": "code",
   "execution_count": null,
   "metadata": {
    "collapsed": true
   },
   "outputs": [],
   "source": [
    "dict = {} # for storing all the words"
   ]
  },
  {
   "cell_type": "code",
   "execution_count": 17,
   "metadata": {},
   "outputs": [
    {
     "name": "stdout",
     "output_type": "stream",
     "text": [
      "BEE is lambee\n"
     ]
    }
   ],
   "source": [
    "# getting the whole phrase'\n",
    "\n",
    "# words are saperated by ?\n",
    "words = re.match(r'(.*)', line, re.M|re.I) \n",
    "\n",
    "if words:\n",
    "    print (words.group())    \n",
    "else:\n",
    "    print (\"not found\")"
   ]
  },
  {
   "cell_type": "code",
   "execution_count": 22,
   "metadata": {},
   "outputs": [
    {
     "name": "stdout",
     "output_type": "stream",
     "text": [
      "('BEE is lambee',)\n"
     ]
    }
   ],
   "source": [
    "# getting the individual words\n",
    "\n",
    "words = re.match(r'(.*)', line, re.M|re.I)\n",
    "\n",
    "if words:\n",
    "    print (words.groups())\n",
    "else:\n",
    "    print (\"nothing found\")"
   ]
  },
  {
   "cell_type": "code",
   "execution_count": 32,
   "metadata": {},
   "outputs": [
    {
     "name": "stdout",
     "output_type": "stream",
     "text": [
      "BEE\n"
     ]
    }
   ],
   "source": [
    "# getting the first word\n",
    "words = re.match(r'[a-z]+[0-9]*|[a-z0-9]*', line, re.M| re.I)\n",
    "if words:\n",
    "    print (words.group())\n",
    "else:\n",
    "    print (\"no alphabet found\")"
   ]
  },
  {
   "cell_type": "code",
   "execution_count": 36,
   "metadata": {},
   "outputs": [
    {
     "name": "stdout",
     "output_type": "stream",
     "text": [
      "['BEE', 'is', 'lambee']\n"
     ]
    }
   ],
   "source": [
    "# getting words saperated by spaces\n",
    "words = re.sub(\"[^\\w]\", \" \",  line).split()\n",
    "print (words)"
   ]
  },
  {
   "cell_type": "code",
   "execution_count": 47,
   "metadata": {},
   "outputs": [
    {
     "name": "stdout",
     "output_type": "stream",
     "text": [
      "['BEE', 'is', 'lambee']\n",
      "[['BEE', 'is', 'lambee']]\n"
     ]
    }
   ],
   "source": [
    "#appending words to a list\n",
    "wordlist = []\n",
    "wordlist.append(words)\n",
    "\n",
    "print (words)\n",
    "print (wordlist)\n",
    "\n",
    "# words is already a list."
   ]
  },
  {
   "cell_type": "code",
   "execution_count": 61,
   "metadata": {},
   "outputs": [
    {
     "name": "stdout",
     "output_type": "stream",
     "text": [
      "3\n"
     ]
    }
   ],
   "source": [
    "# total no of words\n",
    "print (len(words))"
   ]
  },
  {
   "cell_type": "code",
   "execution_count": 64,
   "metadata": {},
   "outputs": [
    {
     "name": "stdout",
     "output_type": "stream",
     "text": [
      "BEE\n",
      "is\n",
      "lambee\n"
     ]
    }
   ],
   "source": [
    "# printing each word\n",
    "length = len(words)\n",
    "for i in range(0, length):\n",
    "    print (words[i])"
   ]
  },
  {
   "cell_type": "code",
   "execution_count": null,
   "metadata": {
    "collapsed": true
   },
   "outputs": [],
   "source": []
  }
 ],
 "metadata": {
  "kernelspec": {
   "display_name": "Python 3",
   "language": "python",
   "name": "python3"
  },
  "language_info": {
   "codemirror_mode": {
    "name": "ipython",
    "version": 3
   },
   "file_extension": ".py",
   "mimetype": "text/x-python",
   "name": "python",
   "nbconvert_exporter": "python",
   "pygments_lexer": "ipython3",
   "version": "3.5.2"
  }
 },
 "nbformat": 4,
 "nbformat_minor": 2
}
